{
 "cells": [
  {
   "cell_type": "code",
   "execution_count": 1,
   "id": "d1335707-d291-470d-b903-825e2036643c",
   "metadata": {},
   "outputs": [],
   "source": [
    "%load_ext autoreload\n",
    "%autoreload 2"
   ]
  },
  {
   "cell_type": "markdown",
   "id": "29857060",
   "metadata": {},
   "source": [
    "# Market Regime Detection Analysis\n",
    "\n",
    "## Introduction\n",
    "\n",
    "Market regimes refer to distinct periods during which the statistical properties of asset returns (like mean, volatility, and correlation) behave differently. Identifying these regimes is crucial for dynamic asset allocation, risk management, and strategy development. For example, a portfolio might perform well in a \"Bull\" regime but poorly in a \"Bear\" regime.\n",
    "\n",
    "This notebook walks through the process of detecting market regimes for a portfolio of European assets using techniques like Hidden Markov Models (HMM) and K-means clustering. We will analyze:\n",
    "\n",
    "1.  **Market Regimes:** Using HMM on asset returns to identify periods like Bull, Bear, or Sideways markets.\n",
    "2.  **Volatility Regimes:** Using K-means clustering on volatility measures to identify periods of Low, Medium, or High volatility.\n",
    "3.  **Correlation Regimes:** Using K-means clustering on rolling average correlations to identify periods of Low or High correlation between assets.\n",
    "\n",
    "The analysis relies on helper scripts located in the `src/` directory for data collection, processing, and the core regime detection logic."
   ]
  },
  {
   "cell_type": "markdown",
   "id": "e792f1ce",
   "metadata": {},
   "source": [
    "## Setup\n",
    "\n",
    "First, let's import necessary libraries and define the project paths. We also need to ensure the helper scripts from the `src` directory are accessible."
   ]
  },
  {
   "cell_type": "code",
   "execution_count": null,
   "id": "f4bcbb89",
   "metadata": {},
   "outputs": [],
   "source": [
    "import os\n",
    "import sys\n",
    "import pandas as pd\n",
    "import matplotlib.pyplot as plt\n",
    "import seaborn as sns\n",
    "import warnings\n",
    "import importlib # To potentially reload modules if scripts change\n",
    "from IPython.display import display, Image # To display images in the notebook\n",
    "\n",
    "# Suppress warnings for cleaner output\n",
    "warnings.filterwarnings('ignore')\n",
    "\n",
    "# Add src directory to Python path to import helper scripts\n",
    "# Assumes the notebook is in the project root directory\n",
    "src_path = os.path.abspath(os.path.join('.', 'src'))\n",
    "if src_path not in sys.path:\n",
    "    sys.path.insert(0, src_path) # Insert at beginning to ensure it's checked first\n",
    "\n",
    "# Define project paths (relative to the notebook location)\n",
    "PROJECT_DIR = os.path.abspath('.') # Assumes notebook is in the project root\n",
    "RAW_DATA_DIR = os.path.join(PROJECT_DIR, 'data/raw')\n",
    "PROCESSED_DATA_DIR = os.path.join(PROJECT_DIR, 'data/processed')\n",
    "MODELS_DIR = os.path.join(PROJECT_DIR, 'models')\n",
    "RESULTS_DIR = os.path.join(PROJECT_DIR, 'results')\n",
    "FIGURES_DIR = os.path.join(RESULTS_DIR, 'figures')\n",
    "TABLES_DIR = os.path.join(RESULTS_DIR, 'tables')\n",
    "\n",
    "# Ensure results directories exist\n",
    "os.makedirs(FIGURES_DIR, exist_ok=True)\n",
    "os.makedirs(TABLES_DIR, exist_ok=True)\n",
    "os.makedirs(MODELS_DIR, exist_ok=True)\n",
    "\n",
    "print(f\"Project Directory: {PROJECT_DIR}\")\n",
    "print(f\"Source Directory added to path: {src_path}\")\n",
    "print(f\"Processed Data Directory: {PROCESSED_DATA_DIR}\")\n",
    "print(f\"Figures Directory: {FIGURES_DIR}\")"
   ]
  },
  {
   "cell_type": "markdown",
   "id": "5abafac1",
   "metadata": {},
   "source": [
    "## Step 1: Data Collection\n",
    "\n",
    "**Intuition:** The first step is to gather historical price data for the assets we want to analyze (European sector ETFs and benchmark indices). This data forms the basis for calculating returns and volatility, which are key inputs for regime detection models.\n",
    "\n",
    "**Implementation:** The `src/collect_data.py` script is designed for this purpose. It uses the `yfinance` library to download daily price data (Open, High, Low, Close, Volume, Adjusted Close) for a predefined list of tickers and saves them as individual CSV files in the `data/raw/` directory.\n",
    "\n",
    "**Known Limitation:** As mentioned in the README, `yfinance` currently faces issues downloading data for some European symbols. Therefore, this project includes dummy CSV files in `data/raw/` to allow the subsequent steps to run. If you have access to reliable data or alternative symbols, you can modify `collect_data.py` and run it. For this notebook, we will assume the raw data (dummy or real) is already present."
   ]
  },
  {
   "cell_type": "code",
   "execution_count": null,
   "id": "6bbc0fff-0d5a-4c22-a8d8-4278b27c4307",
   "metadata": {},
   "outputs": [],
   "source": [
    "import src.collect_data as collect_data\n",
    "collect_data.main()"
   ]
  },
  {
   "cell_type": "code",
   "execution_count": 3,
   "id": "4668f423",
   "metadata": {},
   "outputs": [
    {
     "name": "stdout",
     "output_type": "stream",
     "text": [
      "Checking for raw data files...\n",
      "Found 10 files in data/raw/:\n",
      " - .ipynb_checkpoints\n",
      " - benchmark_eurostoxx50_data.csv\n",
      " - benchmark_stoxx600_data.csv\n",
      " - consumer_data.csv\n",
      " - energy_data.csv\n",
      " - ...and more.\n"
     ]
    }
   ],
   "source": [
    "print(\"Checking for raw data files...\")\n",
    "try:\n",
    "    raw_files = os.listdir(RAW_DATA_DIR)\n",
    "    if not raw_files:\n",
    "        print(\"Warning: No files found in data/raw/. Please ensure dummy data or real data exists.\")\n",
    "    else:\n",
    "        print(f\"Found {len(raw_files)} files in data/raw/:\")\n",
    "        for f in sorted(raw_files)[:5]: # Print first 5 files alphabetically\n",
    "            print(f\" - {f}\")\n",
    "        if len(raw_files) > 5:\n",
    "            print(\" - ...and more.\")\n",
    "except FileNotFoundError:\n",
    "    print(f\"Error: Raw data directory not found at {RAW_DATA_DIR}\")"
   ]
  },
  {
   "cell_type": "markdown",
   "id": "7efb33b2",
   "metadata": {},
   "source": [
    "## Step 2: Data Processing\n",
    "\n",
    "**Intuition:** Raw financial data often contains inconsistencies, missing values, or requires transformation before it can be used in models. This step involves cleaning the data, aligning dates across different assets, handling missing values (e.g., using forward-fill), and calculating key metrics like daily returns. These processed data series are the direct inputs for our regime detection models.\n",
    "\n",
    "**Implementation:** The `src/process_data.py` script handles this. It loads the individual raw CSV files, combines them into unified DataFrames for prices and returns, manages missing data, calculates correlations, and saves the processed results (`asset_prices.csv`, `asset_returns.csv`, etc.) into the `data/processed/` directory.\n",
    "\n",
    "We will now execute this script by importing it and running its `main()` function. The script includes logging, which will be displayed below."
   ]
  },
  {
   "cell_type": "code",
   "execution_count": null,
   "id": "fe819d13",
   "metadata": {},
   "outputs": [],
   "source": [
    "import process_data # Import the script as a module\n",
    "\n",
    "print(\"Running data processing script (process_data.py)...\")\n",
    "try:\n",
    "    # Reload the module in case it was changed\n",
    "    importlib.reload(process_data)\n",
    "    # Execute the main function from the script\n",
    "    process_data.main()\n",
    "    print(\"\\nData processing script finished.\")\n",
    "except Exception as e:\n",
    "    print(f\"Error running process_data.py: {e}\")\n",
    "\n",
    "# Verify that processed files were created\n",
    "print(\"\\nChecking for processed data files...\")\n",
    "try:\n",
    "    processed_files = os.listdir(PROCESSED_DATA_DIR)\n",
    "    if not processed_files:\n",
    "        print(\"Warning: No files found in data/processed/. Data processing may have failed.\")\n",
    "    else:\n",
    "        print(f\"Found {len(processed_files)} files in data/processed/:\")\n",
    "        for f in sorted(processed_files):\n",
    "            print(f\" - {f}\")\n",
    "except FileNotFoundError:\n",
    "    print(f\"Error: Processed data directory not found at {PROCESSED_DATA_DIR}\")"
   ]
  },
  {
   "cell_type": "markdown",
   "id": "dad01c66",
   "metadata": {},
   "source": [
    "## Step 3: Regime Detection\n",
    "\n",
    "**Intuition:** Now that we have processed data, we can apply models to identify underlying market states or regimes.\n",
    "\n",
    "*   **Market Regimes (HMM):** Hidden Markov Models assume that the market transitions between a set of unobservable (hidden) states (regimes), and the observed data (e.g., returns) depends on the current hidden state. By fitting an HMM to the returns data, we can infer the most likely sequence of hidden states over time. We typically label these states based on their statistical properties (e.g., high mean/low volatility = Bull, low mean/high volatility = Bear).\n",
    "*   **Volatility Regimes (K-means):** Volatility itself often exhibits clustering behavior (periods of high vol followed by high vol, low vol followed by low vol). K-means clustering can be applied to a rolling measure of volatility to group time periods into distinct volatility regimes (e.g., Low, Medium, High).\n",
    "*   **Correlation Regimes (K-means):** Similarly, the average correlation between assets in a portfolio can change over time. K-means can be used on rolling average pairwise correlations to identify periods where assets tend to move together (High Correlation) versus periods where they move more independently (Low Correlation).\n",
    "\n",
    "**Implementation:** The `src/regime_detection.py` script implements these models. It loads the processed data, fits the HMM and K-means models, assigns regime labels, and generates plots visualizing the regimes over time, saving them to `results/figures/`. It may also save the trained models to the `models/` directory.\n",
    "\n",
    "We will now execute this script by importing it and running its `main()` function."
   ]
  },
  {
   "cell_type": "code",
   "execution_count": null,
   "id": "66fb1ddd",
   "metadata": {},
   "outputs": [],
   "source": [
    "import regime_detection # Import the script as a module\n",
    "\n",
    "print(\"Running regime detection script (regime_detection.py)...\")\n",
    "try:\n",
    "    # Reload the module in case it was changed\n",
    "    importlib.reload(regime_detection)\n",
    "    # Execute the main function from the script\n",
    "    # Redirect matplotlib output to avoid displaying plots here (they are saved to files)\n",
    "    plt.ioff() # Turn interactive mode off if it was on\n",
    "    regime_detection.main()\n",
    "    plt.close('all') # Close all figures generated by the script\n",
    "    print(\"\\nRegime detection script finished.\")\n",
    "except Exception as e:\n",
    "    print(f\"Error running regime_detection.py: {e}\")\n",
    "\n",
    "# Verify that result files (figures) were created\n",
    "print(\"\\nChecking for result files (figures)...\")\n",
    "figure_files = []\n",
    "try:\n",
    "    figure_files = sorted([f for f in os.listdir(FIGURES_DIR) if f.endswith(\".png\")])\n",
    "    if not figure_files:\n",
    "        print(\"Warning: No PNG files found in results/figures/. Regime detection may have failed or produced no plots.\")\n",
    "    else:\n",
    "        print(f\"Found {len(figure_files)} PNG files in results/figures/:\")\n",
    "        for f in figure_files:\n",
    "            print(f\" - {f}\")\n",
    "except FileNotFoundError:\n",
    "    print(f\"Error: Figures directory not found at {FIGURES_DIR}\")"
   ]
  },
  {
   "cell_type": "markdown",
   "id": "59295621",
   "metadata": {},
   "source": [
    "## Step 4: Visualizing Results\n",
    "\n",
    "The `regime_detection.py` script saves the generated plots as PNG files in the `results/figures/` directory. Let's display these plots directly in the notebook."
   ]
  },
  {
   "cell_type": "code",
   "execution_count": null,
   "id": "1435f5ab",
   "metadata": {},
   "outputs": [],
   "source": [
    "# Display the generated figures\n",
    "if not figure_files:\n",
    "    print(\"No figures to display.\")\n",
    "else:\n",
    "    for f in figure_files:\n",
    "        print(f\"\\n--- {f} ---\")\n",
    "        image_path = os.path.join(FIGURES_DIR, f)\n",
    "        try:\n",
    "            display(Image(filename=image_path))\n",
    "        except FileNotFoundError:\n",
    "            print(f\"Error: Image file not found at {image_path}\")\n",
    "        except Exception as e:\n",
    "            print(f\"Error displaying image {f}: {e}\")"
   ]
  },
  {
   "cell_type": "markdown",
   "id": "1d7e1442",
   "metadata": {},
   "source": [
    "## Conclusion\n",
    "\n",
    "This notebook demonstrated the workflow for detecting market, volatility, and correlation regimes using the provided Python scripts. We executed the data processing and regime detection steps and visualized the resulting plots.\n",
    "\n",
    "**Important Note:** The results shown here are based on **dummy data** due to limitations in downloading live European asset data via `yfinance`. The detected regimes and plots are illustrative and do not represent actual market conditions. To obtain meaningful results, replace the dummy data in `data/raw/` with actual historical data for valid European tickers."
   ]
  }
 ],
 "metadata": {
  "kernelspec": {
   "display_name": "Python 3 (ipykernel)",
   "language": "python",
   "name": "python3"
  },
  "language_info": {
   "codemirror_mode": {
    "name": "ipython",
    "version": 3
   },
   "file_extension": ".py",
   "mimetype": "text/x-python",
   "name": "python",
   "nbconvert_exporter": "python",
   "pygments_lexer": "ipython3",
   "version": "3.10.13"
  }
 },
 "nbformat": 4,
 "nbformat_minor": 5
}
