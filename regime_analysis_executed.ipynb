{
 "cells": [
  {
   "cell_type": "markdown",
   "id": "635a64dc",
   "metadata": {},
   "source": [
    "# Market Regime Detection Analysis\n",
    "\n",
    "## Introduction\n",
    "\n",
    "Market regimes refer to distinct periods during which the statistical properties of asset returns (like mean, volatility, and correlation) behave differently. Identifying these regimes is crucial for dynamic asset allocation, risk management, and strategy development. For example, a portfolio might perform well in a \"Bull\" regime but poorly in a \"Bear\" regime.\n",
    "\n",
    "This notebook walks through the process of detecting market regimes for a portfolio of European assets using techniques like Hidden Markov Models (HMM) and K-means clustering. We will analyze:\n",
    "\n",
    "1.  **Market Regimes:** Using HMM on asset returns to identify periods like Bull, Bear, or Sideways markets.\n",
    "2.  **Volatility Regimes:** Using K-means clustering on volatility measures to identify periods of Low, Medium, or High volatility.\n",
    "3.  **Correlation Regimes:** Using K-means clustering on rolling average correlations to identify periods of Low or High correlation between assets.\n",
    "\n",
    "The analysis relies on helper scripts located in the `src/` directory for data collection, processing, and the core regime detection logic."
   ]
  },
  {
   "cell_type": "markdown",
   "id": "baa13848",
   "metadata": {},
   "source": [
    "## Setup\n",
    "\n",
    "First, let's import necessary libraries and define the project paths. We also need to ensure the helper scripts from the `src` directory are accessible."
   ]
  },
  {
   "cell_type": "code",
   "execution_count": 1,
   "id": "428d1449",
   "metadata": {},
   "outputs": [
    {
     "name": "stdout",
     "output_type": "stream",
     "text": [
      "Project Directory: C:\\Users\\yahia\\Desktop\\app\\internship\\New Projects\\new\\regime_detection_project_with_notebook\\home\\ubuntu\\regime_detection_project_final_with_notebook\n",
      "Source Directory added to path: C:\\Users\\yahia\\Desktop\\app\\internship\\New Projects\\new\\regime_detection_project_with_notebook\\home\\ubuntu\\regime_detection_project_final_with_notebook\\src\n",
      "Processed Data Directory: C:\\Users\\yahia\\Desktop\\app\\internship\\New Projects\\new\\regime_detection_project_with_notebook\\home\\ubuntu\\regime_detection_project_final_with_notebook\\data/processed\n",
      "Figures Directory: C:\\Users\\yahia\\Desktop\\app\\internship\\New Projects\\new\\regime_detection_project_with_notebook\\home\\ubuntu\\regime_detection_project_final_with_notebook\\results\\figures\n"
     ]
    }
   ],
   "source": [
    "import os\n",
    "import sys\n",
    "import pandas as pd\n",
    "import matplotlib.pyplot as plt\n",
    "import seaborn as sns\n",
    "import warnings\n",
    "import importlib # To potentially reload modules if scripts change\n",
    "from IPython.display import display, Image # To display images in the notebook\n",
    "\n",
    "# Suppress warnings for cleaner output\n",
    "warnings.filterwarnings('ignore')\n",
    "\n",
    "# Add src directory to Python path to import helper scripts\n",
    "# Assumes the notebook is in the project root directory\n",
    "src_path = os.path.abspath(os.path.join('.', 'src'))\n",
    "if src_path not in sys.path:\n",
    "    sys.path.insert(0, src_path) # Insert at beginning to ensure it's checked first\n",
    "\n",
    "# Define project paths (relative to the notebook location)\n",
    "PROJECT_DIR = os.path.abspath('.') # Assumes notebook is in the project root\n",
    "RAW_DATA_DIR = os.path.join(PROJECT_DIR, 'data/raw')\n",
    "PROCESSED_DATA_DIR = os.path.join(PROJECT_DIR, 'data/processed')\n",
    "MODELS_DIR = os.path.join(PROJECT_DIR, 'models')\n",
    "RESULTS_DIR = os.path.join(PROJECT_DIR, 'results')\n",
    "FIGURES_DIR = os.path.join(RESULTS_DIR, 'figures')\n",
    "TABLES_DIR = os.path.join(RESULTS_DIR, 'tables')\n",
    "\n",
    "# Ensure results directories exist\n",
    "os.makedirs(FIGURES_DIR, exist_ok=True)\n",
    "os.makedirs(TABLES_DIR, exist_ok=True)\n",
    "os.makedirs(MODELS_DIR, exist_ok=True)\n",
    "\n",
    "print(f\"Project Directory: {PROJECT_DIR}\")\n",
    "print(f\"Source Directory added to path: {src_path}\")\n",
    "print(f\"Processed Data Directory: {PROCESSED_DATA_DIR}\")\n",
    "print(f\"Figures Directory: {FIGURES_DIR}\")"
   ]
  },
  {
   "cell_type": "code",
   "execution_count": 2,
   "id": "3f4181cb-3daf-42bb-acc7-2d7355ace9bd",
   "metadata": {},
   "outputs": [],
   "source": [
    "import src.collect_data as collecct_data\n",
    "import yfinance as yf\n"
   ]
  },
  {
   "cell_type": "code",
   "execution_count": 3,
   "id": "251a6e3a-a90e-4d89-b6c3-e7f5f04a65c0",
   "metadata": {},
   "outputs": [
    {
     "name": "stdout",
     "output_type": "stream",
     "text": [
      "YF.download() has changed argument auto_adjust default to True\n"
     ]
    },
    {
     "name": "stderr",
     "output_type": "stream",
     "text": [
      "[*********************100%***********************]  1 of 1 completed\n",
      "2025-05-11 01:27:49,341 - yfinance - ERROR - \n",
      "1 Failed download:\n",
      "2025-05-11 01:27:49,341 - yfinance - ERROR - ['MSFT']: YFRateLimitError('Too Many Requests. Rate limited. Try after a while.')\n"
     ]
    }
   ],
   "source": [
    "trial = yf.download('MSFT' ,start='2010-01-01')"
   ]
  },
  {
   "cell_type": "code",
   "execution_count": 17,
   "id": "9c31f6fe-6a2f-4cb3-a44b-673513312025",
   "metadata": {},
   "outputs": [
    {
     "name": "stderr",
     "output_type": "stream",
     "text": [
      "2025-05-08 15:59:14,321 - src.collect_data - INFO - Starting data collection process using yfinance\n",
      "2025-05-08 15:59:14,324 - src.collect_data - INFO - Processing Finance (Symbol: EUFN)\n",
      "2025-05-08 15:59:14,326 - src.collect_data - INFO - Downloading data for EUFN from 2010-01-01 to 2025-05-08\n",
      "2025-05-08 15:59:15,787 - yfinance - ERROR - \n",
      "1 Failed download:\n",
      "2025-05-08 15:59:15,788 - yfinance - ERROR - ['EUFN']: YFRateLimitError('Too Many Requests. Rate limited. Try after a while.')\n",
      "2025-05-08 15:59:15,793 - src.collect_data - WARNING - No data downloaded for EUFN. It might be an invalid ticker or delisted for the period.\n",
      "2025-05-08 15:59:15,793 - src.collect_data - WARNING - No data available or error for Finance (Symbol: EUFN)\n",
      "2025-05-08 15:59:15,843 - src.collect_data - INFO - Processing Technology (Symbol: ESTX)\n",
      "2025-05-08 15:59:15,845 - src.collect_data - INFO - Downloading data for ESTX from 2010-01-01 to 2025-05-08\n"
     ]
    },
    {
     "name": "stdout",
     "output_type": "stream",
     "text": [
      "(0, 6)\n"
     ]
    },
    {
     "name": "stderr",
     "output_type": "stream",
     "text": [
      "2025-05-08 15:59:17,373 - yfinance - ERROR - \n",
      "1 Failed download:\n",
      "2025-05-08 15:59:17,374 - yfinance - ERROR - ['ESTX']: YFRateLimitError('Too Many Requests. Rate limited. Try after a while.')\n",
      "2025-05-08 15:59:17,377 - src.collect_data - WARNING - No data downloaded for ESTX. It might be an invalid ticker or delisted for the period.\n",
      "2025-05-08 15:59:17,381 - src.collect_data - WARNING - No data available or error for Technology (Symbol: ESTX)\n",
      "2025-05-08 15:59:17,381 - src.collect_data - INFO - Processing Healthcare (Symbol: HEAL.L)\n",
      "2025-05-08 15:59:17,383 - src.collect_data - INFO - Downloading data for HEAL.L from 2010-01-01 to 2025-05-08\n"
     ]
    },
    {
     "name": "stdout",
     "output_type": "stream",
     "text": [
      "(0, 6)\n"
     ]
    },
    {
     "name": "stderr",
     "output_type": "stream",
     "text": [
      "2025-05-08 15:59:18,833 - yfinance - ERROR - \n",
      "1 Failed download:\n",
      "2025-05-08 15:59:18,833 - yfinance - ERROR - ['HEAL.L']: YFRateLimitError('Too Many Requests. Rate limited. Try after a while.')\n",
      "2025-05-08 15:59:18,838 - src.collect_data - WARNING - No data downloaded for HEAL.L. It might be an invalid ticker or delisted for the period.\n",
      "2025-05-08 15:59:18,838 - src.collect_data - WARNING - No data available or error for Healthcare (Symbol: HEAL.L)\n",
      "2025-05-08 15:59:18,838 - src.collect_data - INFO - Processing Energy (Symbol: IESU.L)\n",
      "2025-05-08 15:59:18,842 - src.collect_data - INFO - Downloading data for IESU.L from 2010-01-01 to 2025-05-08\n"
     ]
    },
    {
     "name": "stdout",
     "output_type": "stream",
     "text": [
      "(0, 6)\n"
     ]
    },
    {
     "name": "stderr",
     "output_type": "stream",
     "text": [
      "2025-05-08 15:59:19,963 - yfinance - ERROR - \n",
      "1 Failed download:\n",
      "2025-05-08 15:59:19,966 - yfinance - ERROR - ['IESU.L']: YFRateLimitError('Too Many Requests. Rate limited. Try after a while.')\n",
      "2025-05-08 15:59:19,972 - src.collect_data - WARNING - No data downloaded for IESU.L. It might be an invalid ticker or delisted for the period.\n",
      "2025-05-08 15:59:19,974 - src.collect_data - WARNING - No data available or error for Energy (Symbol: IESU.L)\n",
      "2025-05-08 15:59:19,976 - src.collect_data - INFO - Processing Consumer (Symbol: CPXJ.DE)\n",
      "2025-05-08 15:59:19,976 - src.collect_data - INFO - Downloading data for CPXJ.DE from 2010-01-01 to 2025-05-08\n"
     ]
    },
    {
     "name": "stdout",
     "output_type": "stream",
     "text": [
      "(0, 6)\n"
     ]
    },
    {
     "name": "stderr",
     "output_type": "stream",
     "text": [
      "2025-05-08 15:59:21,118 - yfinance - ERROR - \n",
      "1 Failed download:\n",
      "2025-05-08 15:59:21,118 - yfinance - ERROR - ['CPXJ.DE']: YFRateLimitError('Too Many Requests. Rate limited. Try after a while.')\n",
      "2025-05-08 15:59:21,126 - src.collect_data - WARNING - No data downloaded for CPXJ.DE. It might be an invalid ticker or delisted for the period.\n",
      "2025-05-08 15:59:21,126 - src.collect_data - WARNING - No data available or error for Consumer (Symbol: CPXJ.DE)\n",
      "2025-05-08 15:59:21,128 - src.collect_data - INFO - Processing Industrial (Symbol: SX4P.DE)\n",
      "2025-05-08 15:59:21,128 - src.collect_data - INFO - Downloading data for SX4P.DE from 2010-01-01 to 2025-05-08\n"
     ]
    },
    {
     "name": "stdout",
     "output_type": "stream",
     "text": [
      "(0, 6)\n"
     ]
    },
    {
     "name": "stderr",
     "output_type": "stream",
     "text": [
      "2025-05-08 15:59:22,194 - yfinance - ERROR - \n",
      "1 Failed download:\n",
      "2025-05-08 15:59:22,194 - yfinance - ERROR - ['SX4P.DE']: YFRateLimitError('Too Many Requests. Rate limited. Try after a while.')\n",
      "2025-05-08 15:59:22,197 - src.collect_data - WARNING - No data downloaded for SX4P.DE. It might be an invalid ticker or delisted for the period.\n",
      "2025-05-08 15:59:22,202 - src.collect_data - WARNING - No data available or error for Industrial (Symbol: SX4P.DE)\n",
      "2025-05-08 15:59:22,203 - src.collect_data - INFO - Processing Materials (Symbol: SXPP.DE)\n",
      "2025-05-08 15:59:22,203 - src.collect_data - INFO - Downloading data for SXPP.DE from 2010-01-01 to 2025-05-08\n"
     ]
    },
    {
     "name": "stdout",
     "output_type": "stream",
     "text": [
      "(0, 6)\n"
     ]
    },
    {
     "name": "stderr",
     "output_type": "stream",
     "text": [
      "2025-05-08 15:59:23,253 - yfinance - ERROR - \n",
      "1 Failed download:\n",
      "2025-05-08 15:59:23,254 - yfinance - ERROR - ['SXPP.DE']: YFRateLimitError('Too Many Requests. Rate limited. Try after a while.')\n",
      "2025-05-08 15:59:23,260 - src.collect_data - WARNING - No data downloaded for SXPP.DE. It might be an invalid ticker or delisted for the period.\n",
      "2025-05-08 15:59:23,260 - src.collect_data - WARNING - No data available or error for Materials (Symbol: SXPP.DE)\n",
      "2025-05-08 15:59:23,262 - src.collect_data - INFO - Processing Benchmark_STOXX600 (Symbol: ^STOXX)\n",
      "2025-05-08 15:59:23,264 - src.collect_data - INFO - Downloading data for ^STOXX from 2010-01-01 to 2025-05-08\n"
     ]
    },
    {
     "name": "stdout",
     "output_type": "stream",
     "text": [
      "(0, 6)\n"
     ]
    },
    {
     "name": "stderr",
     "output_type": "stream",
     "text": [
      "2025-05-08 15:59:24,298 - yfinance - ERROR - \n",
      "1 Failed download:\n",
      "2025-05-08 15:59:24,300 - yfinance - ERROR - ['^STOXX']: YFRateLimitError('Too Many Requests. Rate limited. Try after a while.')\n",
      "2025-05-08 15:59:24,304 - src.collect_data - WARNING - No data downloaded for ^STOXX. It might be an invalid ticker or delisted for the period.\n",
      "2025-05-08 15:59:24,305 - src.collect_data - WARNING - No data available or error for Benchmark_STOXX600 (Symbol: ^STOXX)\n",
      "2025-05-08 15:59:24,305 - src.collect_data - INFO - Processing Benchmark_EUROSTOXX50 (Symbol: ^STOXX50E)\n",
      "2025-05-08 15:59:24,307 - src.collect_data - INFO - Downloading data for ^STOXX50E from 2010-01-01 to 2025-05-08\n"
     ]
    },
    {
     "name": "stdout",
     "output_type": "stream",
     "text": [
      "(0, 6)\n"
     ]
    },
    {
     "name": "stderr",
     "output_type": "stream",
     "text": [
      "2025-05-08 15:59:25,383 - yfinance - ERROR - \n",
      "1 Failed download:\n",
      "2025-05-08 15:59:25,385 - yfinance - ERROR - ['^STOXX50E']: YFRateLimitError('Too Many Requests. Rate limited. Try after a while.')\n",
      "2025-05-08 15:59:25,389 - src.collect_data - WARNING - No data downloaded for ^STOXX50E. It might be an invalid ticker or delisted for the period.\n",
      "2025-05-08 15:59:25,389 - src.collect_data - WARNING - No data available or error for Benchmark_EUROSTOXX50 (Symbol: ^STOXX50E)\n",
      "2025-05-08 15:59:25,391 - src.collect_data - INFO - Data collection process completed\n"
     ]
    },
    {
     "name": "stdout",
     "output_type": "stream",
     "text": [
      "(0, 6)\n"
     ]
    }
   ],
   "source": [
    "collecct_data.main()"
   ]
  },
  {
   "cell_type": "markdown",
   "id": "d8d9d3ba",
   "metadata": {},
   "source": [
    "## Step 1: Data Collection\n",
    "\n",
    "**Intuition:** The first step is to gather historical price data for the assets we want to analyze (European sector ETFs and benchmark indices). This data forms the basis for calculating returns and volatility, which are key inputs for regime detection models.\n",
    "\n",
    "**Implementation:** The `src/collect_data.py` script is designed for this purpose. It uses the `yfinance` library to download daily price data (Open, High, Low, Close, Volume, Adjusted Close) for a predefined list of tickers and saves them as individual CSV files in the `data/raw/` directory.\n",
    "\n",
    "**Known Limitation:** As mentioned in the README, `yfinance` currently faces issues downloading data for some European symbols. Therefore, this project includes dummy CSV files in `data/raw/` to allow the subsequent steps to run. If you have access to reliable data or alternative symbols, you can modify `collect_data.py` and run it. For this notebook, we will assume the raw data (dummy or real) is already present."
   ]
  },
  {
   "cell_type": "code",
   "execution_count": null,
   "id": "d679eece-8826-4884-a5a8-2732c95e37c4",
   "metadata": {},
   "outputs": [],
   "source": []
  },
  {
   "cell_type": "code",
   "execution_count": 9,
   "id": "c515498a",
   "metadata": {},
   "outputs": [
    {
     "name": "stdout",
     "output_type": "stream",
     "text": [
      "Checking for raw data files...\n",
      "Found 1 files in data/raw/:\n",
      " - .ipynb_checkpoints\n"
     ]
    }
   ],
   "source": [
    "# We won't run collect_data.py here because it uses dummy data anyway.\n",
    "# We'll proceed assuming the data exists in data/raw/\n",
    "print(\"Checking for raw data files...\")\n",
    "try:\n",
    "    raw_files = os.listdir(RAW_DATA_DIR)\n",
    "    if not raw_files:\n",
    "        print(\"Warning: No files found in data/raw/. Please ensure dummy data or real data exists.\")\n",
    "    else:\n",
    "        print(f\"Found {len(raw_files)} files in data/raw/:\")\n",
    "        for f in sorted(raw_files)[:5]: # Print first 5 files alphabetically\n",
    "            print(f\" - {f}\")\n",
    "        if len(raw_files) > 5:\n",
    "            print(\" - ...and more.\")\n",
    "except FileNotFoundError:\n",
    "    print(f\"Error: Raw data directory not found at {RAW_DATA_DIR}\")"
   ]
  },
  {
   "cell_type": "markdown",
   "id": "adb9c39f",
   "metadata": {},
   "source": [
    "## Step 2: Data Processing\n",
    "\n",
    "**Intuition:** Raw financial data often contains inconsistencies, missing values, or requires transformation before it can be used in models. This step involves cleaning the data, aligning dates across different assets, handling missing values (e.g., using forward-fill), and calculating key metrics like daily returns. These processed data series are the direct inputs for our regime detection models.\n",
    "\n",
    "**Implementation:** The `src/process_data.py` script handles this. It loads the individual raw CSV files, combines them into unified DataFrames for prices and returns, manages missing data, calculates correlations, and saves the processed results (`asset_prices.csv`, `asset_returns.csv`, etc.) into the `data/processed/` directory.\n",
    "\n",
    "We will now execute this script by importing it and running its `main()` function. The script includes logging, which will be displayed below."
   ]
  },
  {
   "cell_type": "code",
   "execution_count": 3,
   "id": "5c0c2e62",
   "metadata": {
    "execution": {
     "iopub.execute_input": "2025-05-05T09:25:24.104094Z",
     "iopub.status.busy": "2025-05-05T09:25:24.103757Z",
     "iopub.status.idle": "2025-05-05T09:25:24.188419Z",
     "shell.execute_reply": "2025-05-05T09:25:24.187532Z"
    }
   },
   "outputs": [
    {
     "name": "stderr",
     "output_type": "stream",
     "text": [
      "2025-05-05 05:25:24,117 - process_data - INFO - Starting data processing script\n"
     ]
    },
    {
     "name": "stderr",
     "output_type": "stream",
     "text": [
      "2025-05-05 05:25:24,118 - process_data - INFO - Loading raw data from: /home/ubuntu/regime_detection_project_updated/home/ubuntu/regime_detection_project/data/raw\n"
     ]
    },
    {
     "name": "stderr",
     "output_type": "stream",
     "text": [
      "2025-05-05 05:25:24,119 - process_data - INFO - Found CSV files: ['finance_data.csv', 'technology_data.csv', 'healthcare_data.csv', 'energy_data.csv', 'consumer_data.csv', 'industrial_data.csv', 'materials_data.csv', 'benchmark_stoxx600_data.csv', 'benchmark_eurostoxx50_data.csv']\n"
     ]
    },
    {
     "name": "stderr",
     "output_type": "stream",
     "text": [
      "2025-05-05 05:25:24,129 - process_data - INFO - Loaded 5 rows of data for Finance from finance_data.csv\n"
     ]
    },
    {
     "name": "stderr",
     "output_type": "stream",
     "text": [
      "2025-05-05 05:25:24,134 - process_data - INFO - Loaded 5 rows of data for Technology from technology_data.csv\n"
     ]
    },
    {
     "name": "stderr",
     "output_type": "stream",
     "text": [
      "2025-05-05 05:25:24,138 - process_data - INFO - Loaded 5 rows of data for Healthcare from healthcare_data.csv\n"
     ]
    },
    {
     "name": "stderr",
     "output_type": "stream",
     "text": [
      "2025-05-05 05:25:24,142 - process_data - INFO - Loaded 5 rows of data for Energy from energy_data.csv\n"
     ]
    },
    {
     "name": "stderr",
     "output_type": "stream",
     "text": [
      "2025-05-05 05:25:24,146 - process_data - INFO - Loaded 5 rows of data for Consumer from consumer_data.csv\n"
     ]
    },
    {
     "name": "stderr",
     "output_type": "stream",
     "text": [
      "2025-05-05 05:25:24,149 - process_data - INFO - Loaded 5 rows of data for Industrial from industrial_data.csv\n"
     ]
    },
    {
     "name": "stderr",
     "output_type": "stream",
     "text": [
      "2025-05-05 05:25:24,153 - process_data - INFO - Loaded 5 rows of data for Materials from materials_data.csv\n"
     ]
    },
    {
     "name": "stderr",
     "output_type": "stream",
     "text": [
      "2025-05-05 05:25:24,157 - process_data - INFO - Loaded 5 rows of data for Benchmark Stoxx600 from benchmark_stoxx600_data.csv\n"
     ]
    },
    {
     "name": "stderr",
     "output_type": "stream",
     "text": [
      "2025-05-05 05:25:24,161 - process_data - INFO - Loaded 5 rows of data for Benchmark Eurostoxx50 from benchmark_eurostoxx50_data.csv\n"
     ]
    },
    {
     "name": "stderr",
     "output_type": "stream",
     "text": [
      "2025-05-05 05:25:24,161 - process_data - INFO - Processing asset data...\n"
     ]
    },
    {
     "name": "stderr",
     "output_type": "stream",
     "text": [
      "2025-05-05 05:25:24,163 - process_data - INFO - Combined DataFrame shape before processing: (5, 9)\n"
     ]
    },
    {
     "name": "stderr",
     "output_type": "stream",
     "text": [
      "2025-05-05 05:25:24,167 - process_data - INFO - Combined DataFrame shape after filling NaNs: (5, 9)\n"
     ]
    },
    {
     "name": "stderr",
     "output_type": "stream",
     "text": [
      "2025-05-05 05:25:24,169 - process_data - INFO - Calculated returns DataFrame shape: (4, 9)\n"
     ]
    },
    {
     "name": "stderr",
     "output_type": "stream",
     "text": [
      "2025-05-05 05:25:24,170 - process_data - INFO - Calculated correlation matrix.\n"
     ]
    },
    {
     "name": "stderr",
     "output_type": "stream",
     "text": [
      "2025-05-05 05:25:24,172 - process_data - INFO - Extracted benchmark columns as placeholder for asset_class_indices.\n"
     ]
    },
    {
     "name": "stderr",
     "output_type": "stream",
     "text": [
      "2025-05-05 05:25:24,173 - process_data - INFO - Saving processed data to: /home/ubuntu/regime_detection_project_updated/home/ubuntu/regime_detection_project/data/processed\n"
     ]
    },
    {
     "name": "stderr",
     "output_type": "stream",
     "text": [
      "2025-05-05 05:25:24,177 - process_data - INFO - Saved asset_prices data ((5, 9)) to /home/ubuntu/regime_detection_project_updated/home/ubuntu/regime_detection_project/data/processed/asset_prices.csv\n"
     ]
    },
    {
     "name": "stderr",
     "output_type": "stream",
     "text": [
      "2025-05-05 05:25:24,179 - process_data - INFO - Saved asset_returns data ((4, 9)) to /home/ubuntu/regime_detection_project_updated/home/ubuntu/regime_detection_project/data/processed/asset_returns.csv\n"
     ]
    },
    {
     "name": "stderr",
     "output_type": "stream",
     "text": [
      "2025-05-05 05:25:24,181 - process_data - INFO - Saved asset_correlations data ((9, 9)) to /home/ubuntu/regime_detection_project_updated/home/ubuntu/regime_detection_project/data/processed/asset_correlations.csv\n"
     ]
    },
    {
     "name": "stderr",
     "output_type": "stream",
     "text": [
      "2025-05-05 05:25:24,183 - process_data - INFO - Saved asset_class_indices data ((5, 2)) to /home/ubuntu/regime_detection_project_updated/home/ubuntu/regime_detection_project/data/processed/asset_class_indices.csv\n"
     ]
    },
    {
     "name": "stderr",
     "output_type": "stream",
     "text": [
      "2025-05-05 05:25:24,184 - process_data - INFO - Data processing script completed\n"
     ]
    },
    {
     "name": "stdout",
     "output_type": "stream",
     "text": [
      "Running data processing script (process_data.py)...\n",
      "\n",
      "Data processing script finished.\n",
      "\n",
      "Checking for processed data files...\n",
      "Found 4 files in data/processed/:\n",
      " - asset_class_indices.csv\n",
      " - asset_correlations.csv\n",
      " - asset_prices.csv\n",
      " - asset_returns.csv\n"
     ]
    }
   ],
   "source": [
    "import process_data # Import the script as a module\n",
    "\n",
    "print(\"Running data processing script (process_data.py)...\")\n",
    "try:\n",
    "    # Reload the module in case it was changed\n",
    "    importlib.reload(process_data)\n",
    "    # Execute the main function from the script\n",
    "    process_data.main()\n",
    "    print(\"\\nData processing script finished.\")\n",
    "except Exception as e:\n",
    "    print(f\"Error running process_data.py: {e}\")\n",
    "\n",
    "# Verify that processed files were created\n",
    "print(\"\\nChecking for processed data files...\")\n",
    "try:\n",
    "    processed_files = os.listdir(PROCESSED_DATA_DIR)\n",
    "    if not processed_files:\n",
    "        print(\"Warning: No files found in data/processed/. Data processing may have failed.\")\n",
    "    else:\n",
    "        print(f\"Found {len(processed_files)} files in data/processed/:\")\n",
    "        for f in sorted(processed_files):\n",
    "            print(f\" - {f}\")\n",
    "except FileNotFoundError:\n",
    "    print(f\"Error: Processed data directory not found at {PROCESSED_DATA_DIR}\")"
   ]
  },
  {
   "cell_type": "markdown",
   "id": "19b45c09",
   "metadata": {},
   "source": [
    "## Step 3: Regime Detection\n",
    "\n",
    "**Intuition:** Now that we have processed data, we can apply models to identify underlying market states or regimes.\n",
    "\n",
    "*   **Market Regimes (HMM):** Hidden Markov Models assume that the market transitions between a set of unobservable (hidden) states (regimes), and the observed data (e.g., returns) depends on the current hidden state. By fitting an HMM to the returns data, we can infer the most likely sequence of hidden states over time. We typically label these states based on their statistical properties (e.g., high mean/low volatility = Bull, low mean/high volatility = Bear).\n",
    "*   **Volatility Regimes (K-means):** Volatility itself often exhibits clustering behavior (periods of high vol followed by high vol, low vol followed by low vol). K-means clustering can be applied to a rolling measure of volatility to group time periods into distinct volatility regimes (e.g., Low, Medium, High).\n",
    "*   **Correlation Regimes (K-means):** Similarly, the average correlation between assets in a portfolio can change over time. K-means can be used on rolling average pairwise correlations to identify periods where assets tend to move together (High Correlation) versus periods where they move more independently (Low Correlation).\n",
    "\n",
    "**Implementation:** The `src/regime_detection.py` script implements these models. It loads the processed data, fits the HMM and K-means models, assigns regime labels, and generates plots visualizing the regimes over time, saving them to `results/figures/`. It may also save the trained models to the `models/` directory.\n",
    "\n",
    "We will now execute this script by importing it and running its `main()` function."
   ]
  },
  {
   "cell_type": "code",
   "execution_count": 6,
   "id": "cf1413a2-c9c0-45e9-865e-d49ebf107608",
   "metadata": {},
   "outputs": [
    {
     "name": "stdout",
     "output_type": "stream",
     "text": [
      "The autoreload extension is already loaded. To reload it, use:\n",
      "  %reload_ext autoreload\n"
     ]
    }
   ],
   "source": [
    "%load_ext autoreload\n",
    "%autoreload 2"
   ]
  },
  {
   "cell_type": "code",
   "execution_count": 7,
   "id": "8c6b8647",
   "metadata": {},
   "outputs": [
    {
     "name": "stderr",
     "output_type": "stream",
     "text": [
      "Fitting a model with 14 free scalar parameters with only 4 data points will result in a degenerate solution.\n"
     ]
    },
    {
     "name": "stdout",
     "output_type": "stream",
     "text": [
      "Running regime detection script (regime_detection.py)...\n",
      "Starting regime detection analysis...\n",
      "Loading processed data...\n",
      "Detecting market regimes for Finance...\n"
     ]
    },
    {
     "name": "stderr",
     "output_type": "stream",
     "text": [
      "Model is not converging.  Current: 6.797591717722042 is not greater than 10.115071873632834. Delta is -3.3174801559107916\n"
     ]
    },
    {
     "name": "stdout",
     "output_type": "stream",
     "text": [
      "Market regimes detected and plotted for Finance.\n",
      "Detecting volatility regimes for Finance...\n",
      "Could not calculate rolling volatility or it was all NaN for Finance.\n",
      "Skipping correlation regime detection due to insufficient assets or returns data.\n",
      "Skipping combined regime analysis as one or more regime types could not be determined.\n",
      "Regime detection analysis finished.\n",
      "\n",
      "Regime detection script finished.\n",
      "\n",
      "Checking for result files (figures)...\n",
      "Found 1 PNG files in results/figures/:\n",
      " - finance_market_market_regimes.png\n"
     ]
    }
   ],
   "source": [
    "import regime_detection # Import the script as a module\n",
    "\n",
    "print(\"Running regime detection script (regime_detection.py)...\")\n",
    "try:\n",
    "    # Reload the module in case it was changed\n",
    "    importlib.reload(regime_detection)\n",
    "    # Execute the main function from the script\n",
    "    # Redirect matplotlib output to avoid displaying plots here (they are saved to files)\n",
    "    plt.ioff() # Turn interactive mode off if it was on\n",
    "    regime_detection.main()\n",
    "    plt.close('all') # Close all figures generated by the script\n",
    "    print(\"\\nRegime detection script finished.\")\n",
    "except Exception as e:\n",
    "    print(f\"Error running regime_detection.py: {e}\")\n",
    "\n",
    "# Verify that result files (figures) were created\n",
    "print(\"\\nChecking for result files (figures)...\")\n",
    "figure_files = []\n",
    "try:\n",
    "    figure_files = sorted([f for f in os.listdir(FIGURES_DIR) if f.endswith(\".png\")])\n",
    "    if not figure_files:\n",
    "        print(\"Warning: No PNG files found in results/figures/. Regime detection may have failed or produced no plots.\")\n",
    "    else:\n",
    "        print(f\"Found {len(figure_files)} PNG files in results/figures/:\")\n",
    "        for f in figure_files:\n",
    "            print(f\" - {f}\")\n",
    "except FileNotFoundError:\n",
    "    print(f\"Error: Figures directory not found at {FIGURES_DIR}\")"
   ]
  },
  {
   "cell_type": "markdown",
   "id": "1aa30726",
   "metadata": {},
   "source": [
    "## Step 4: Visualizing Results\n",
    "\n",
    "The `regime_detection.py` script saves the generated plots as PNG files in the `results/figures/` directory. Let's display these plots directly in the notebook."
   ]
  },
  {
   "cell_type": "code",
   "execution_count": 8,
   "id": "a51696bb",
   "metadata": {},
   "outputs": [
    {
     "name": "stdout",
     "output_type": "stream",
     "text": [
      "\n",
      "--- finance_market_market_regimes.png ---\n"
     ]
    },
    {
     "data": {
      "image/png": "[encoded data removed]",
      "text/plain": [
       "<IPython.core.display.Image object>"
      ]
     },
     "metadata": {},
     "output_type": "display_data"
    }
   ],
   "source": [
    "# Display the generated figures\n",
    "if not figure_files:\n",
    "    print(\"No figures to display.\")\n",
    "else:\n",
    "    for f in figure_files:\n",
    "        print(f\"\\n--- {f} ---\")\n",
    "        image_path = os.path.join(FIGURES_DIR, f)\n",
    "        try:\n",
    "            display(Image(filename=image_path))\n",
    "        except FileNotFoundError:\n",
    "            print(f\"Error: Image file not found at {image_path}\")\n",
    "        except Exception as e:\n",
    "            print(f\"Error displaying image {f}: {e}\")"
   ]
  },
  {
   "cell_type": "markdown",
   "id": "d566010a",
   "metadata": {},
   "source": [
    "## Conclusion\n",
    "\n",
    "This notebook demonstrated the workflow for detecting market, volatility, and correlation regimes using the provided Python scripts. We executed the data processing and regime detection steps and visualized the resulting plots.\n",
    "\n",
    "**Important Note:** The results shown here are based on **dummy data** due to limitations in downloading live European asset data via `yfinance`. The detected regimes and plots are illustrative and do not represent actual market conditions. To obtain meaningful results, replace the dummy data in `data/raw/` with actual historical data for valid European tickers."
   ]
  }
 ],
 "metadata": {
  "kernelspec": {
   "display_name": "Python 3 (ipykernel)",
   "language": "python",
   "name": "python3"
  },
  "language_info": {
   "codemirror_mode": {
    "name": "ipython",
    "version": 3
   },
   "file_extension": ".py",
   "mimetype": "text/x-python",
   "name": "python",
   "nbconvert_exporter": "python",
   "pygments_lexer": "ipython3",
   "version": "3.10.13"
  }
 },
 "nbformat": 4,
 "nbformat_minor": 5
}
